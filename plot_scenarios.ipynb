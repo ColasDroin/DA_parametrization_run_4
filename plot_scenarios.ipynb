{
 "cells": [
  {
   "cell_type": "markdown",
   "metadata": {},
   "source": [
    "### Imports"
   ]
  },
  {
   "cell_type": "code",
   "execution_count": 1,
   "metadata": {},
   "outputs": [],
   "source": [
    "# Standard imports\n",
    "import pandas as pd\n",
    "import plotly.express as px\n",
    "import plotly.io as pio   \n",
    "pio.kaleido.scope.mathjax = None"
   ]
  },
  {
   "cell_type": "markdown",
   "metadata": {},
   "source": [
    "### Load scenarios"
   ]
  },
  {
   "cell_type": "code",
   "execution_count": 2,
   "metadata": {},
   "outputs": [],
   "source": [
    "df_scenario_round_1 = pd.read_csv('scenario_round_1.csv')"
   ]
  },
  {
   "cell_type": "code",
   "execution_count": 3,
   "metadata": {},
   "outputs": [
    {
     "data": {
      "text/html": [
       "<div>\n",
       "<style scoped>\n",
       "    .dataframe tbody tr th:only-of-type {\n",
       "        vertical-align: middle;\n",
       "    }\n",
       "\n",
       "    .dataframe tbody tr th {\n",
       "        vertical-align: top;\n",
       "    }\n",
       "\n",
       "    .dataframe thead th {\n",
       "        text-align: right;\n",
       "    }\n",
       "</style>\n",
       "<table border=\"1\" class=\"dataframe\">\n",
       "  <thead>\n",
       "    <tr style=\"text-align: right;\">\n",
       "      <th></th>\n",
       "      <th>Time (a.u.)</th>\n",
       "      <th>Step</th>\n",
       "      <th>Energy (TeV)</th>\n",
       "      <th>Emittance (μm)</th>\n",
       "      <th>Intensity (1e11 ppb)</th>\n",
       "      <th>Beta (m)</th>\n",
       "      <th>Luminosity (1e34 cm2/s)</th>\n",
       "      <th>Octupoles (A)</th>\n",
       "      <th>Crabs (μrad)</th>\n",
       "      <th>Chromaticity</th>\n",
       "      <th>Optics</th>\n",
       "    </tr>\n",
       "  </thead>\n",
       "  <tbody>\n",
       "    <tr>\n",
       "      <th>0</th>\n",
       "      <td>0.00</td>\n",
       "      <td>Start injection</td>\n",
       "      <td>0.45</td>\n",
       "      <td>2.0</td>\n",
       "      <td>0.0</td>\n",
       "      <td>11.00</td>\n",
       "      <td>0</td>\n",
       "      <td>10</td>\n",
       "      <td>0</td>\n",
       "      <td>15</td>\n",
       "      <td>Skipped</td>\n",
       "    </tr>\n",
       "    <tr>\n",
       "      <th>1</th>\n",
       "      <td>0.20</td>\n",
       "      <td>End of injection</td>\n",
       "      <td>0.45</td>\n",
       "      <td>2.0</td>\n",
       "      <td>2.3</td>\n",
       "      <td>11.00</td>\n",
       "      <td>0</td>\n",
       "      <td>10</td>\n",
       "      <td>0</td>\n",
       "      <td>15</td>\n",
       "      <td>operation/optics/R2023a_A11mC11mA10mL10m_Phase...</td>\n",
       "    </tr>\n",
       "    <tr>\n",
       "      <th>2</th>\n",
       "      <td>0.50</td>\n",
       "      <td>End of ramp</td>\n",
       "      <td>7.00</td>\n",
       "      <td>2.0</td>\n",
       "      <td>2.3</td>\n",
       "      <td>1.00</td>\n",
       "      <td>0</td>\n",
       "      <td>450</td>\n",
       "      <td>0</td>\n",
       "      <td>15</td>\n",
       "      <td>Same_as_start_of_collapse</td>\n",
       "    </tr>\n",
       "    <tr>\n",
       "      <th>3</th>\n",
       "      <td>0.60</td>\n",
       "      <td>Start of collapse</td>\n",
       "      <td>7.00</td>\n",
       "      <td>2.0</td>\n",
       "      <td>2.3</td>\n",
       "      <td>1.00</td>\n",
       "      <td>0</td>\n",
       "      <td>450</td>\n",
       "      <td>0</td>\n",
       "      <td>15</td>\n",
       "      <td>round/start_collapse/opt_collapse_1000_1500_tr...</td>\n",
       "    </tr>\n",
       "    <tr>\n",
       "      <th>4</th>\n",
       "      <td>0.65</td>\n",
       "      <td>End of collapse</td>\n",
       "      <td>7.00</td>\n",
       "      <td>2.5</td>\n",
       "      <td>2.3</td>\n",
       "      <td>1.00</td>\n",
       "      <td>2</td>\n",
       "      <td>450</td>\n",
       "      <td>0</td>\n",
       "      <td>15</td>\n",
       "      <td>round/start_collapse/opt_collapse_1000_1500_tr...</td>\n",
       "    </tr>\n",
       "    <tr>\n",
       "      <th>5</th>\n",
       "      <td>0.90</td>\n",
       "      <td>Start of levelling</td>\n",
       "      <td>7.00</td>\n",
       "      <td>2.5</td>\n",
       "      <td>2.2</td>\n",
       "      <td>0.59</td>\n",
       "      <td>5</td>\n",
       "      <td>60</td>\n",
       "      <td>190</td>\n",
       "      <td>15</td>\n",
       "      <td>acc-models-lhc/strengths/round/levelling/opt_l...</td>\n",
       "    </tr>\n",
       "    <tr>\n",
       "      <th>6</th>\n",
       "      <td>2.00</td>\n",
       "      <td>End of levelling</td>\n",
       "      <td>7.00</td>\n",
       "      <td>2.5</td>\n",
       "      <td>1.4</td>\n",
       "      <td>0.15</td>\n",
       "      <td>5</td>\n",
       "      <td>60</td>\n",
       "      <td>190</td>\n",
       "      <td>15</td>\n",
       "      <td>acc-models-lhc/strengths/round/opt_round_150_1...</td>\n",
       "    </tr>\n",
       "    <tr>\n",
       "      <th>7</th>\n",
       "      <td>2.50</td>\n",
       "      <td>Dump</td>\n",
       "      <td>7.00</td>\n",
       "      <td>2.5</td>\n",
       "      <td>1.2</td>\n",
       "      <td>0.15</td>\n",
       "      <td>4</td>\n",
       "      <td>60</td>\n",
       "      <td>190</td>\n",
       "      <td>15</td>\n",
       "      <td>Same as end of levelling</td>\n",
       "    </tr>\n",
       "  </tbody>\n",
       "</table>\n",
       "</div>"
      ],
      "text/plain": [
       "   Time (a.u.)                Step  Energy (TeV)  Emittance (μm)  \\\n",
       "0         0.00     Start injection          0.45             2.0   \n",
       "1         0.20    End of injection          0.45             2.0   \n",
       "2         0.50         End of ramp          7.00             2.0   \n",
       "3         0.60   Start of collapse          7.00             2.0   \n",
       "4         0.65     End of collapse          7.00             2.5   \n",
       "5         0.90  Start of levelling          7.00             2.5   \n",
       "6         2.00    End of levelling          7.00             2.5   \n",
       "7         2.50                Dump          7.00             2.5   \n",
       "\n",
       "   Intensity (1e11 ppb)  Beta (m)  Luminosity (1e34 cm2/s)  Octupoles (A)  \\\n",
       "0                   0.0     11.00                        0             10   \n",
       "1                   2.3     11.00                        0             10   \n",
       "2                   2.3      1.00                        0            450   \n",
       "3                   2.3      1.00                        0            450   \n",
       "4                   2.3      1.00                        2            450   \n",
       "5                   2.2      0.59                        5             60   \n",
       "6                   1.4      0.15                        5             60   \n",
       "7                   1.2      0.15                        4             60   \n",
       "\n",
       "   Crabs (μrad)  Chromaticity  \\\n",
       "0             0            15   \n",
       "1             0            15   \n",
       "2             0            15   \n",
       "3             0            15   \n",
       "4             0            15   \n",
       "5           190            15   \n",
       "6           190            15   \n",
       "7           190            15   \n",
       "\n",
       "                                              Optics  \n",
       "0                                            Skipped  \n",
       "1  operation/optics/R2023a_A11mC11mA10mL10m_Phase...  \n",
       "2                          Same_as_start_of_collapse  \n",
       "3  round/start_collapse/opt_collapse_1000_1500_tr...  \n",
       "4  round/start_collapse/opt_collapse_1000_1500_tr...  \n",
       "5  acc-models-lhc/strengths/round/levelling/opt_l...  \n",
       "6  acc-models-lhc/strengths/round/opt_round_150_1...  \n",
       "7                           Same as end of levelling  "
      ]
     },
     "execution_count": 3,
     "metadata": {},
     "output_type": "execute_result"
    }
   ],
   "source": [
    "df_scenario_round_1"
   ]
  },
  {
   "cell_type": "markdown",
   "metadata": {},
   "source": [
    "### Plot scenarios"
   ]
  },
  {
   "cell_type": "code",
   "execution_count": 4,
   "metadata": {},
   "outputs": [],
   "source": [
    "def plot_scenario(\n",
    "    df_scenario,\n",
    "    title_scenario,\n",
    "    variables_to_plot=[\n",
    "        \"Energy (TeV)\",\n",
    "        \"Emittance (μm)\",\n",
    "        \"Intensity (1e11 ppb)\",\n",
    "        \"Beta (m)\",\n",
    "        \"Luminosity (1e34 cm2/s)\",\n",
    "        \"Octupoles (1e2 A)\",\n",
    "        \"Crabs (1e2 μrad)\",\n",
    "        \"Chromaticity\",\n",
    "    ],\n",
    "    rescale_octupoles=True,\n",
    "    rescale_crabs=True,\n",
    "    save_to_pdf=True,\n",
    "    save_to_png=True,\n",
    "):\n",
    "\n",
    "    # Rescale variables that are too large\n",
    "    if rescale_octupoles and \"Octupoles (A)\" in df_scenario.columns:\n",
    "        df_scenario[\"Octupoles (A)\"] = df_scenario[\"Octupoles (A)\"] / 100\n",
    "        df_scenario = df_scenario.rename(columns={\"Octupoles (A)\": \"Octupoles (1e2 A)\"})\n",
    "    if rescale_crabs and \"Crabs (μrad)\" in df_scenario.columns:\n",
    "        df_scenario[\"Crabs (μrad)\"] = df_scenario[\"Crabs (μrad)\"] / 100\n",
    "        df_scenario = df_scenario.rename(columns={\"Crabs (μrad)\": \"Crabs (1e2 μrad)\"})\n",
    "\n",
    "    # Do the interactive plot\n",
    "    fig = px.line(\n",
    "        df_scenario,\n",
    "        x=\"Time (a.u.)\",\n",
    "        y=variables_to_plot,\n",
    "        markers=True,\n",
    "        template=\"simple_white\",\n",
    "        color_discrete_sequence=px.colors.qualitative.Dark2,\n",
    "        width=1000,\n",
    "        height=8 * 00,\n",
    "        hover_data=[\"Optics\"],\n",
    "    )\n",
    "\n",
    "    # Improve plot aesthetics\n",
    "    fig.update_traces(\n",
    "        line={\"width\": 1.5},\n",
    "        marker=dict(size=4),\n",
    "        mode=\"markers+lines\",\n",
    "        hovertemplate=None,\n",
    "        hoverlabel=dict(namelength=-1),\n",
    "    )\n",
    "    fig.update_yaxes(showgrid=False, title=\"Parameter value\")\n",
    "    fig.update_xaxes(\n",
    "        showgrid=True,\n",
    "        range=[df_scenario[\"Time (a.u.)\"].iloc[0], df_scenario[\"Time (a.u.)\"].iloc[-1]],\n",
    "        title=\"Time (not to scale)\",\n",
    "        ticktext=df_scenario[\"Step\"],\n",
    "        tickvals=df_scenario[\"Time (a.u.)\"],\n",
    "    )\n",
    "    fig.update_layout(\n",
    "        legend_title=\"Parameters\",\n",
    "        font_family=\"Latin Modern Roman\",\n",
    "        title_font_family=\"Latin Modern Roman\",\n",
    "        title_text=title_scenario,\n",
    "        title_x=0.5,\n",
    "        hovermode=\"x unified\",\n",
    "    )\n",
    "\n",
    "    # Show and possibly save the plot\n",
    "    fig.show()\n",
    "    if save_to_pdf:\n",
    "        fig.write_image(f\"{title_scenario}.pdf\")\n",
    "    if save_to_png:\n",
    "        fig.write_image(f\"{title_scenario}.png\", scale=2)"
   ]
  },
  {
   "cell_type": "code",
   "execution_count": 5,
   "metadata": {},
   "outputs": [
    {
     "data": {
      "application/vnd.plotly.v1+json": {
       "config": {
        "plotlyServerURL": "https://plot.ly"
       },
       "data": [
        {
         "customdata": [
          [
           "Skipped"
          ],
          [
           "operation/optics/R2023a_A11mC11mA10mL10m_PhaseKnob100ON.madx"
          ],
          [
           "Same_as_start_of_collapse"
          ],
          [
           "round/start_collapse/opt_collapse_1000_1500_triplet_match3_thin.madx"
          ],
          [
           "round/start_collapse/opt_collapse_1000_1500_triplet_match3_thin.madx"
          ],
          [
           "acc-models-lhc/strengths/round/levelling/opt_levelling_590_1500.madx"
          ],
          [
           "acc-models-lhc/strengths/round/opt_round_150_1500.madx"
          ],
          [
           "Same as end of levelling"
          ]
         ],
         "hoverlabel": {
          "namelength": -1
         },
         "legendgroup": "Energy (TeV)",
         "line": {
          "color": "rgb(27,158,119)",
          "dash": "solid",
          "width": 1.5
         },
         "marker": {
          "size": 4,
          "symbol": "circle"
         },
         "mode": "markers+lines",
         "name": "Energy (TeV)",
         "orientation": "v",
         "showlegend": true,
         "type": "scatter",
         "x": [
          0,
          0.2,
          0.5,
          0.6,
          0.65,
          0.9,
          2,
          2.5
         ],
         "xaxis": "x",
         "y": [
          0.45,
          0.45,
          7,
          7,
          7,
          7,
          7,
          7
         ],
         "yaxis": "y"
        },
        {
         "customdata": [
          [
           "Skipped"
          ],
          [
           "operation/optics/R2023a_A11mC11mA10mL10m_PhaseKnob100ON.madx"
          ],
          [
           "Same_as_start_of_collapse"
          ],
          [
           "round/start_collapse/opt_collapse_1000_1500_triplet_match3_thin.madx"
          ],
          [
           "round/start_collapse/opt_collapse_1000_1500_triplet_match3_thin.madx"
          ],
          [
           "acc-models-lhc/strengths/round/levelling/opt_levelling_590_1500.madx"
          ],
          [
           "acc-models-lhc/strengths/round/opt_round_150_1500.madx"
          ],
          [
           "Same as end of levelling"
          ]
         ],
         "hoverlabel": {
          "namelength": -1
         },
         "legendgroup": "Emittance (μm)",
         "line": {
          "color": "rgb(217,95,2)",
          "dash": "solid",
          "width": 1.5
         },
         "marker": {
          "size": 4,
          "symbol": "circle"
         },
         "mode": "markers+lines",
         "name": "Emittance (μm)",
         "orientation": "v",
         "showlegend": true,
         "type": "scatter",
         "x": [
          0,
          0.2,
          0.5,
          0.6,
          0.65,
          0.9,
          2,
          2.5
         ],
         "xaxis": "x",
         "y": [
          2,
          2,
          2,
          2,
          2.5,
          2.5,
          2.5,
          2.5
         ],
         "yaxis": "y"
        },
        {
         "customdata": [
          [
           "Skipped"
          ],
          [
           "operation/optics/R2023a_A11mC11mA10mL10m_PhaseKnob100ON.madx"
          ],
          [
           "Same_as_start_of_collapse"
          ],
          [
           "round/start_collapse/opt_collapse_1000_1500_triplet_match3_thin.madx"
          ],
          [
           "round/start_collapse/opt_collapse_1000_1500_triplet_match3_thin.madx"
          ],
          [
           "acc-models-lhc/strengths/round/levelling/opt_levelling_590_1500.madx"
          ],
          [
           "acc-models-lhc/strengths/round/opt_round_150_1500.madx"
          ],
          [
           "Same as end of levelling"
          ]
         ],
         "hoverlabel": {
          "namelength": -1
         },
         "legendgroup": "Intensity (1e11 ppb)",
         "line": {
          "color": "rgb(117,112,179)",
          "dash": "solid",
          "width": 1.5
         },
         "marker": {
          "size": 4,
          "symbol": "circle"
         },
         "mode": "markers+lines",
         "name": "Intensity (1e11 ppb)",
         "orientation": "v",
         "showlegend": true,
         "type": "scatter",
         "x": [
          0,
          0.2,
          0.5,
          0.6,
          0.65,
          0.9,
          2,
          2.5
         ],
         "xaxis": "x",
         "y": [
          0,
          2.3,
          2.3,
          2.3,
          2.3,
          2.2,
          1.4,
          1.2
         ],
         "yaxis": "y"
        },
        {
         "customdata": [
          [
           "Skipped"
          ],
          [
           "operation/optics/R2023a_A11mC11mA10mL10m_PhaseKnob100ON.madx"
          ],
          [
           "Same_as_start_of_collapse"
          ],
          [
           "round/start_collapse/opt_collapse_1000_1500_triplet_match3_thin.madx"
          ],
          [
           "round/start_collapse/opt_collapse_1000_1500_triplet_match3_thin.madx"
          ],
          [
           "acc-models-lhc/strengths/round/levelling/opt_levelling_590_1500.madx"
          ],
          [
           "acc-models-lhc/strengths/round/opt_round_150_1500.madx"
          ],
          [
           "Same as end of levelling"
          ]
         ],
         "hoverlabel": {
          "namelength": -1
         },
         "legendgroup": "Beta (m)",
         "line": {
          "color": "rgb(231,41,138)",
          "dash": "solid",
          "width": 1.5
         },
         "marker": {
          "size": 4,
          "symbol": "circle"
         },
         "mode": "markers+lines",
         "name": "Beta (m)",
         "orientation": "v",
         "showlegend": true,
         "type": "scatter",
         "x": [
          0,
          0.2,
          0.5,
          0.6,
          0.65,
          0.9,
          2,
          2.5
         ],
         "xaxis": "x",
         "y": [
          11,
          11,
          1,
          1,
          1,
          0.59,
          0.15,
          0.15
         ],
         "yaxis": "y"
        },
        {
         "customdata": [
          [
           "Skipped"
          ],
          [
           "operation/optics/R2023a_A11mC11mA10mL10m_PhaseKnob100ON.madx"
          ],
          [
           "Same_as_start_of_collapse"
          ],
          [
           "round/start_collapse/opt_collapse_1000_1500_triplet_match3_thin.madx"
          ],
          [
           "round/start_collapse/opt_collapse_1000_1500_triplet_match3_thin.madx"
          ],
          [
           "acc-models-lhc/strengths/round/levelling/opt_levelling_590_1500.madx"
          ],
          [
           "acc-models-lhc/strengths/round/opt_round_150_1500.madx"
          ],
          [
           "Same as end of levelling"
          ]
         ],
         "hoverlabel": {
          "namelength": -1
         },
         "legendgroup": "Luminosity (1e34 cm2/s)",
         "line": {
          "color": "rgb(102,166,30)",
          "dash": "solid",
          "width": 1.5
         },
         "marker": {
          "size": 4,
          "symbol": "circle"
         },
         "mode": "markers+lines",
         "name": "Luminosity (1e34 cm2/s)",
         "orientation": "v",
         "showlegend": true,
         "type": "scatter",
         "x": [
          0,
          0.2,
          0.5,
          0.6,
          0.65,
          0.9,
          2,
          2.5
         ],
         "xaxis": "x",
         "y": [
          0,
          0,
          0,
          0,
          2,
          5,
          5,
          4
         ],
         "yaxis": "y"
        },
        {
         "customdata": [
          [
           "Skipped"
          ],
          [
           "operation/optics/R2023a_A11mC11mA10mL10m_PhaseKnob100ON.madx"
          ],
          [
           "Same_as_start_of_collapse"
          ],
          [
           "round/start_collapse/opt_collapse_1000_1500_triplet_match3_thin.madx"
          ],
          [
           "round/start_collapse/opt_collapse_1000_1500_triplet_match3_thin.madx"
          ],
          [
           "acc-models-lhc/strengths/round/levelling/opt_levelling_590_1500.madx"
          ],
          [
           "acc-models-lhc/strengths/round/opt_round_150_1500.madx"
          ],
          [
           "Same as end of levelling"
          ]
         ],
         "hoverlabel": {
          "namelength": -1
         },
         "legendgroup": "Octupoles (1e2 A)",
         "line": {
          "color": "rgb(230,171,2)",
          "dash": "solid",
          "width": 1.5
         },
         "marker": {
          "size": 4,
          "symbol": "circle"
         },
         "mode": "markers+lines",
         "name": "Octupoles (1e2 A)",
         "orientation": "v",
         "showlegend": true,
         "type": "scatter",
         "x": [
          0,
          0.2,
          0.5,
          0.6,
          0.65,
          0.9,
          2,
          2.5
         ],
         "xaxis": "x",
         "y": [
          0.1,
          0.1,
          4.5,
          4.5,
          4.5,
          0.6,
          0.6,
          0.6
         ],
         "yaxis": "y"
        },
        {
         "customdata": [
          [
           "Skipped"
          ],
          [
           "operation/optics/R2023a_A11mC11mA10mL10m_PhaseKnob100ON.madx"
          ],
          [
           "Same_as_start_of_collapse"
          ],
          [
           "round/start_collapse/opt_collapse_1000_1500_triplet_match3_thin.madx"
          ],
          [
           "round/start_collapse/opt_collapse_1000_1500_triplet_match3_thin.madx"
          ],
          [
           "acc-models-lhc/strengths/round/levelling/opt_levelling_590_1500.madx"
          ],
          [
           "acc-models-lhc/strengths/round/opt_round_150_1500.madx"
          ],
          [
           "Same as end of levelling"
          ]
         ],
         "hoverlabel": {
          "namelength": -1
         },
         "legendgroup": "Crabs (1e2 μrad)",
         "line": {
          "color": "rgb(166,118,29)",
          "dash": "solid",
          "width": 1.5
         },
         "marker": {
          "size": 4,
          "symbol": "circle"
         },
         "mode": "markers+lines",
         "name": "Crabs (1e2 μrad)",
         "orientation": "v",
         "showlegend": true,
         "type": "scatter",
         "x": [
          0,
          0.2,
          0.5,
          0.6,
          0.65,
          0.9,
          2,
          2.5
         ],
         "xaxis": "x",
         "y": [
          0,
          0,
          0,
          0,
          0,
          1.9,
          1.9,
          1.9
         ],
         "yaxis": "y"
        },
        {
         "customdata": [
          [
           "Skipped"
          ],
          [
           "operation/optics/R2023a_A11mC11mA10mL10m_PhaseKnob100ON.madx"
          ],
          [
           "Same_as_start_of_collapse"
          ],
          [
           "round/start_collapse/opt_collapse_1000_1500_triplet_match3_thin.madx"
          ],
          [
           "round/start_collapse/opt_collapse_1000_1500_triplet_match3_thin.madx"
          ],
          [
           "acc-models-lhc/strengths/round/levelling/opt_levelling_590_1500.madx"
          ],
          [
           "acc-models-lhc/strengths/round/opt_round_150_1500.madx"
          ],
          [
           "Same as end of levelling"
          ]
         ],
         "hoverlabel": {
          "namelength": -1
         },
         "legendgroup": "Chromaticity",
         "line": {
          "color": "rgb(102,102,102)",
          "dash": "solid",
          "width": 1.5
         },
         "marker": {
          "size": 4,
          "symbol": "circle"
         },
         "mode": "markers+lines",
         "name": "Chromaticity",
         "orientation": "v",
         "showlegend": true,
         "type": "scatter",
         "x": [
          0,
          0.2,
          0.5,
          0.6,
          0.65,
          0.9,
          2,
          2.5
         ],
         "xaxis": "x",
         "y": [
          15,
          15,
          15,
          15,
          15,
          15,
          15,
          15
         ],
         "yaxis": "y"
        }
       ],
       "layout": {
        "font": {
         "family": "Latin Modern Roman"
        },
        "hovermode": "x unified",
        "legend": {
         "title": {
          "text": "Parameters"
         },
         "tracegroupgap": 0
        },
        "margin": {
         "t": 60
        },
        "template": {
         "data": {
          "bar": [
           {
            "error_x": {
             "color": "rgb(36,36,36)"
            },
            "error_y": {
             "color": "rgb(36,36,36)"
            },
            "marker": {
             "line": {
              "color": "white",
              "width": 0.5
             },
             "pattern": {
              "fillmode": "overlay",
              "size": 10,
              "solidity": 0.2
             }
            },
            "type": "bar"
           }
          ],
          "barpolar": [
           {
            "marker": {
             "line": {
              "color": "white",
              "width": 0.5
             },
             "pattern": {
              "fillmode": "overlay",
              "size": 10,
              "solidity": 0.2
             }
            },
            "type": "barpolar"
           }
          ],
          "carpet": [
           {
            "aaxis": {
             "endlinecolor": "rgb(36,36,36)",
             "gridcolor": "white",
             "linecolor": "white",
             "minorgridcolor": "white",
             "startlinecolor": "rgb(36,36,36)"
            },
            "baxis": {
             "endlinecolor": "rgb(36,36,36)",
             "gridcolor": "white",
             "linecolor": "white",
             "minorgridcolor": "white",
             "startlinecolor": "rgb(36,36,36)"
            },
            "type": "carpet"
           }
          ],
          "choropleth": [
           {
            "colorbar": {
             "outlinewidth": 1,
             "tickcolor": "rgb(36,36,36)",
             "ticks": "outside"
            },
            "type": "choropleth"
           }
          ],
          "contour": [
           {
            "colorbar": {
             "outlinewidth": 1,
             "tickcolor": "rgb(36,36,36)",
             "ticks": "outside"
            },
            "colorscale": [
             [
              0,
              "#440154"
             ],
             [
              0.1111111111111111,
              "#482878"
             ],
             [
              0.2222222222222222,
              "#3e4989"
             ],
             [
              0.3333333333333333,
              "#31688e"
             ],
             [
              0.4444444444444444,
              "#26828e"
             ],
             [
              0.5555555555555556,
              "#1f9e89"
             ],
             [
              0.6666666666666666,
              "#35b779"
             ],
             [
              0.7777777777777778,
              "#6ece58"
             ],
             [
              0.8888888888888888,
              "#b5de2b"
             ],
             [
              1,
              "#fde725"
             ]
            ],
            "type": "contour"
           }
          ],
          "contourcarpet": [
           {
            "colorbar": {
             "outlinewidth": 1,
             "tickcolor": "rgb(36,36,36)",
             "ticks": "outside"
            },
            "type": "contourcarpet"
           }
          ],
          "heatmap": [
           {
            "colorbar": {
             "outlinewidth": 1,
             "tickcolor": "rgb(36,36,36)",
             "ticks": "outside"
            },
            "colorscale": [
             [
              0,
              "#440154"
             ],
             [
              0.1111111111111111,
              "#482878"
             ],
             [
              0.2222222222222222,
              "#3e4989"
             ],
             [
              0.3333333333333333,
              "#31688e"
             ],
             [
              0.4444444444444444,
              "#26828e"
             ],
             [
              0.5555555555555556,
              "#1f9e89"
             ],
             [
              0.6666666666666666,
              "#35b779"
             ],
             [
              0.7777777777777778,
              "#6ece58"
             ],
             [
              0.8888888888888888,
              "#b5de2b"
             ],
             [
              1,
              "#fde725"
             ]
            ],
            "type": "heatmap"
           }
          ],
          "heatmapgl": [
           {
            "colorbar": {
             "outlinewidth": 1,
             "tickcolor": "rgb(36,36,36)",
             "ticks": "outside"
            },
            "colorscale": [
             [
              0,
              "#440154"
             ],
             [
              0.1111111111111111,
              "#482878"
             ],
             [
              0.2222222222222222,
              "#3e4989"
             ],
             [
              0.3333333333333333,
              "#31688e"
             ],
             [
              0.4444444444444444,
              "#26828e"
             ],
             [
              0.5555555555555556,
              "#1f9e89"
             ],
             [
              0.6666666666666666,
              "#35b779"
             ],
             [
              0.7777777777777778,
              "#6ece58"
             ],
             [
              0.8888888888888888,
              "#b5de2b"
             ],
             [
              1,
              "#fde725"
             ]
            ],
            "type": "heatmapgl"
           }
          ],
          "histogram": [
           {
            "marker": {
             "line": {
              "color": "white",
              "width": 0.6
             }
            },
            "type": "histogram"
           }
          ],
          "histogram2d": [
           {
            "colorbar": {
             "outlinewidth": 1,
             "tickcolor": "rgb(36,36,36)",
             "ticks": "outside"
            },
            "colorscale": [
             [
              0,
              "#440154"
             ],
             [
              0.1111111111111111,
              "#482878"
             ],
             [
              0.2222222222222222,
              "#3e4989"
             ],
             [
              0.3333333333333333,
              "#31688e"
             ],
             [
              0.4444444444444444,
              "#26828e"
             ],
             [
              0.5555555555555556,
              "#1f9e89"
             ],
             [
              0.6666666666666666,
              "#35b779"
             ],
             [
              0.7777777777777778,
              "#6ece58"
             ],
             [
              0.8888888888888888,
              "#b5de2b"
             ],
             [
              1,
              "#fde725"
             ]
            ],
            "type": "histogram2d"
           }
          ],
          "histogram2dcontour": [
           {
            "colorbar": {
             "outlinewidth": 1,
             "tickcolor": "rgb(36,36,36)",
             "ticks": "outside"
            },
            "colorscale": [
             [
              0,
              "#440154"
             ],
             [
              0.1111111111111111,
              "#482878"
             ],
             [
              0.2222222222222222,
              "#3e4989"
             ],
             [
              0.3333333333333333,
              "#31688e"
             ],
             [
              0.4444444444444444,
              "#26828e"
             ],
             [
              0.5555555555555556,
              "#1f9e89"
             ],
             [
              0.6666666666666666,
              "#35b779"
             ],
             [
              0.7777777777777778,
              "#6ece58"
             ],
             [
              0.8888888888888888,
              "#b5de2b"
             ],
             [
              1,
              "#fde725"
             ]
            ],
            "type": "histogram2dcontour"
           }
          ],
          "mesh3d": [
           {
            "colorbar": {
             "outlinewidth": 1,
             "tickcolor": "rgb(36,36,36)",
             "ticks": "outside"
            },
            "type": "mesh3d"
           }
          ],
          "parcoords": [
           {
            "line": {
             "colorbar": {
              "outlinewidth": 1,
              "tickcolor": "rgb(36,36,36)",
              "ticks": "outside"
             }
            },
            "type": "parcoords"
           }
          ],
          "pie": [
           {
            "automargin": true,
            "type": "pie"
           }
          ],
          "scatter": [
           {
            "fillpattern": {
             "fillmode": "overlay",
             "size": 10,
             "solidity": 0.2
            },
            "type": "scatter"
           }
          ],
          "scatter3d": [
           {
            "line": {
             "colorbar": {
              "outlinewidth": 1,
              "tickcolor": "rgb(36,36,36)",
              "ticks": "outside"
             }
            },
            "marker": {
             "colorbar": {
              "outlinewidth": 1,
              "tickcolor": "rgb(36,36,36)",
              "ticks": "outside"
             }
            },
            "type": "scatter3d"
           }
          ],
          "scattercarpet": [
           {
            "marker": {
             "colorbar": {
              "outlinewidth": 1,
              "tickcolor": "rgb(36,36,36)",
              "ticks": "outside"
             }
            },
            "type": "scattercarpet"
           }
          ],
          "scattergeo": [
           {
            "marker": {
             "colorbar": {
              "outlinewidth": 1,
              "tickcolor": "rgb(36,36,36)",
              "ticks": "outside"
             }
            },
            "type": "scattergeo"
           }
          ],
          "scattergl": [
           {
            "marker": {
             "colorbar": {
              "outlinewidth": 1,
              "tickcolor": "rgb(36,36,36)",
              "ticks": "outside"
             }
            },
            "type": "scattergl"
           }
          ],
          "scattermapbox": [
           {
            "marker": {
             "colorbar": {
              "outlinewidth": 1,
              "tickcolor": "rgb(36,36,36)",
              "ticks": "outside"
             }
            },
            "type": "scattermapbox"
           }
          ],
          "scatterpolar": [
           {
            "marker": {
             "colorbar": {
              "outlinewidth": 1,
              "tickcolor": "rgb(36,36,36)",
              "ticks": "outside"
             }
            },
            "type": "scatterpolar"
           }
          ],
          "scatterpolargl": [
           {
            "marker": {
             "colorbar": {
              "outlinewidth": 1,
              "tickcolor": "rgb(36,36,36)",
              "ticks": "outside"
             }
            },
            "type": "scatterpolargl"
           }
          ],
          "scatterternary": [
           {
            "marker": {
             "colorbar": {
              "outlinewidth": 1,
              "tickcolor": "rgb(36,36,36)",
              "ticks": "outside"
             }
            },
            "type": "scatterternary"
           }
          ],
          "surface": [
           {
            "colorbar": {
             "outlinewidth": 1,
             "tickcolor": "rgb(36,36,36)",
             "ticks": "outside"
            },
            "colorscale": [
             [
              0,
              "#440154"
             ],
             [
              0.1111111111111111,
              "#482878"
             ],
             [
              0.2222222222222222,
              "#3e4989"
             ],
             [
              0.3333333333333333,
              "#31688e"
             ],
             [
              0.4444444444444444,
              "#26828e"
             ],
             [
              0.5555555555555556,
              "#1f9e89"
             ],
             [
              0.6666666666666666,
              "#35b779"
             ],
             [
              0.7777777777777778,
              "#6ece58"
             ],
             [
              0.8888888888888888,
              "#b5de2b"
             ],
             [
              1,
              "#fde725"
             ]
            ],
            "type": "surface"
           }
          ],
          "table": [
           {
            "cells": {
             "fill": {
              "color": "rgb(237,237,237)"
             },
             "line": {
              "color": "white"
             }
            },
            "header": {
             "fill": {
              "color": "rgb(217,217,217)"
             },
             "line": {
              "color": "white"
             }
            },
            "type": "table"
           }
          ]
         },
         "layout": {
          "annotationdefaults": {
           "arrowhead": 0,
           "arrowwidth": 1
          },
          "autotypenumbers": "strict",
          "coloraxis": {
           "colorbar": {
            "outlinewidth": 1,
            "tickcolor": "rgb(36,36,36)",
            "ticks": "outside"
           }
          },
          "colorscale": {
           "diverging": [
            [
             0,
             "rgb(103,0,31)"
            ],
            [
             0.1,
             "rgb(178,24,43)"
            ],
            [
             0.2,
             "rgb(214,96,77)"
            ],
            [
             0.3,
             "rgb(244,165,130)"
            ],
            [
             0.4,
             "rgb(253,219,199)"
            ],
            [
             0.5,
             "rgb(247,247,247)"
            ],
            [
             0.6,
             "rgb(209,229,240)"
            ],
            [
             0.7,
             "rgb(146,197,222)"
            ],
            [
             0.8,
             "rgb(67,147,195)"
            ],
            [
             0.9,
             "rgb(33,102,172)"
            ],
            [
             1,
             "rgb(5,48,97)"
            ]
           ],
           "sequential": [
            [
             0,
             "#440154"
            ],
            [
             0.1111111111111111,
             "#482878"
            ],
            [
             0.2222222222222222,
             "#3e4989"
            ],
            [
             0.3333333333333333,
             "#31688e"
            ],
            [
             0.4444444444444444,
             "#26828e"
            ],
            [
             0.5555555555555556,
             "#1f9e89"
            ],
            [
             0.6666666666666666,
             "#35b779"
            ],
            [
             0.7777777777777778,
             "#6ece58"
            ],
            [
             0.8888888888888888,
             "#b5de2b"
            ],
            [
             1,
             "#fde725"
            ]
           ],
           "sequentialminus": [
            [
             0,
             "#440154"
            ],
            [
             0.1111111111111111,
             "#482878"
            ],
            [
             0.2222222222222222,
             "#3e4989"
            ],
            [
             0.3333333333333333,
             "#31688e"
            ],
            [
             0.4444444444444444,
             "#26828e"
            ],
            [
             0.5555555555555556,
             "#1f9e89"
            ],
            [
             0.6666666666666666,
             "#35b779"
            ],
            [
             0.7777777777777778,
             "#6ece58"
            ],
            [
             0.8888888888888888,
             "#b5de2b"
            ],
            [
             1,
             "#fde725"
            ]
           ]
          },
          "colorway": [
           "#1F77B4",
           "#FF7F0E",
           "#2CA02C",
           "#D62728",
           "#9467BD",
           "#8C564B",
           "#E377C2",
           "#7F7F7F",
           "#BCBD22",
           "#17BECF"
          ],
          "font": {
           "color": "rgb(36,36,36)"
          },
          "geo": {
           "bgcolor": "white",
           "lakecolor": "white",
           "landcolor": "white",
           "showlakes": true,
           "showland": true,
           "subunitcolor": "white"
          },
          "hoverlabel": {
           "align": "left"
          },
          "hovermode": "closest",
          "mapbox": {
           "style": "light"
          },
          "paper_bgcolor": "white",
          "plot_bgcolor": "white",
          "polar": {
           "angularaxis": {
            "gridcolor": "rgb(232,232,232)",
            "linecolor": "rgb(36,36,36)",
            "showgrid": false,
            "showline": true,
            "ticks": "outside"
           },
           "bgcolor": "white",
           "radialaxis": {
            "gridcolor": "rgb(232,232,232)",
            "linecolor": "rgb(36,36,36)",
            "showgrid": false,
            "showline": true,
            "ticks": "outside"
           }
          },
          "scene": {
           "xaxis": {
            "backgroundcolor": "white",
            "gridcolor": "rgb(232,232,232)",
            "gridwidth": 2,
            "linecolor": "rgb(36,36,36)",
            "showbackground": true,
            "showgrid": false,
            "showline": true,
            "ticks": "outside",
            "zeroline": false,
            "zerolinecolor": "rgb(36,36,36)"
           },
           "yaxis": {
            "backgroundcolor": "white",
            "gridcolor": "rgb(232,232,232)",
            "gridwidth": 2,
            "linecolor": "rgb(36,36,36)",
            "showbackground": true,
            "showgrid": false,
            "showline": true,
            "ticks": "outside",
            "zeroline": false,
            "zerolinecolor": "rgb(36,36,36)"
           },
           "zaxis": {
            "backgroundcolor": "white",
            "gridcolor": "rgb(232,232,232)",
            "gridwidth": 2,
            "linecolor": "rgb(36,36,36)",
            "showbackground": true,
            "showgrid": false,
            "showline": true,
            "ticks": "outside",
            "zeroline": false,
            "zerolinecolor": "rgb(36,36,36)"
           }
          },
          "shapedefaults": {
           "fillcolor": "black",
           "line": {
            "width": 0
           },
           "opacity": 0.3
          },
          "ternary": {
           "aaxis": {
            "gridcolor": "rgb(232,232,232)",
            "linecolor": "rgb(36,36,36)",
            "showgrid": false,
            "showline": true,
            "ticks": "outside"
           },
           "baxis": {
            "gridcolor": "rgb(232,232,232)",
            "linecolor": "rgb(36,36,36)",
            "showgrid": false,
            "showline": true,
            "ticks": "outside"
           },
           "bgcolor": "white",
           "caxis": {
            "gridcolor": "rgb(232,232,232)",
            "linecolor": "rgb(36,36,36)",
            "showgrid": false,
            "showline": true,
            "ticks": "outside"
           }
          },
          "title": {
           "x": 0.05
          },
          "xaxis": {
           "automargin": true,
           "gridcolor": "rgb(232,232,232)",
           "linecolor": "rgb(36,36,36)",
           "showgrid": false,
           "showline": true,
           "ticks": "outside",
           "title": {
            "standoff": 15
           },
           "zeroline": false,
           "zerolinecolor": "rgb(36,36,36)"
          },
          "yaxis": {
           "automargin": true,
           "gridcolor": "rgb(232,232,232)",
           "linecolor": "rgb(36,36,36)",
           "showgrid": false,
           "showline": true,
           "ticks": "outside",
           "title": {
            "standoff": 15
           },
           "zeroline": false,
           "zerolinecolor": "rgb(36,36,36)"
          }
         }
        },
        "title": {
         "font": {
          "family": "Latin Modern Roman"
         },
         "text": "HL-LHC DA scenario 1 (round)",
         "x": 0.5
        },
        "width": 1000,
        "xaxis": {
         "anchor": "y",
         "domain": [
          0,
          1
         ],
         "range": [
          0,
          2.5
         ],
         "showgrid": true,
         "ticktext": [
          "Start injection",
          "End of injection",
          "End of ramp",
          "Start of collapse",
          "End of collapse",
          "Start of levelling",
          "End of levelling",
          "Dump"
         ],
         "tickvals": [
          0,
          0.2,
          0.5,
          0.6,
          0.65,
          0.9,
          2,
          2.5
         ],
         "title": {
          "text": "Time (not to scale)"
         }
        },
        "yaxis": {
         "anchor": "x",
         "domain": [
          0,
          1
         ],
         "showgrid": false,
         "title": {
          "text": "Parameter value"
         }
        }
       }
      }
     },
     "metadata": {},
     "output_type": "display_data"
    }
   ],
   "source": [
    "plot_scenario(\n",
    "    df_scenario=df_scenario_round_1,\n",
    "    title_scenario=\"HL-LHC DA scenario 1 (round)\",\n",
    ")"
   ]
  },
  {
   "cell_type": "code",
   "execution_count": null,
   "metadata": {},
   "outputs": [],
   "source": []
  }
 ],
 "metadata": {
  "kernelspec": {
   "display_name": "Python 3",
   "language": "python",
   "name": "python3"
  },
  "language_info": {
   "codemirror_mode": {
    "name": "ipython",
    "version": 3
   },
   "file_extension": ".py",
   "mimetype": "text/x-python",
   "name": "python",
   "nbconvert_exporter": "python",
   "pygments_lexer": "ipython3",
   "version": "3.11.7"
  }
 },
 "nbformat": 4,
 "nbformat_minor": 2
}
